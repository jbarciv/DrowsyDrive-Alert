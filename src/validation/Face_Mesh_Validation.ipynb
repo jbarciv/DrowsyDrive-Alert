{
  "cells": [
    {
      "cell_type": "markdown",
      "metadata": {
        "id": "f0ao94ET6M6j"
      },
      "source": [
        "# **Driving Drowsiness Detection** - Validation\n",
        "\n",
        "----------\n",
        "*Master's in Automation and Robotics - ETSII (UPM)*\\\n",
        "**Subject:** Computer Vision\\\n",
        "**Course:** 2023-24\\\n",
        "**Student Name (ID):**\n",
        "- Ivonne Quishpe (23146)\n",
        "- Gustavo Maldonado (23102)\n",
        "- Jorge Guijarro (23075)\n",
        "- Micaela Cabrera (23023)\n",
        "- Josep Mª Barberá (17048)\n",
        "\n",
        "**Date:** December, 6\n",
        "\n",
        "------------\n",
        "This Notebook uses the drowsiness detection system for images. To validate the correct functioning and generalization of the model, a test set has been created with more than 100 images with 8 types of expressions, e.g., left eye open, right eye closed and mouth open. These possible states have been encoded with three bits where 1 represents closed and 0 open and the most significant bit refers to the left eye and the least to the mouth. The test set is loaded from Google Drive itself as this Notebook has been implemented in Google Colab."
      ]
    },
    {
      "cell_type": "markdown",
      "metadata": {
        "id": "R5rBLl2hlc9u"
      },
      "source": [
        "Libraries"
      ]
    },
    {
      "cell_type": "code",
      "execution_count": null,
      "metadata": {
        "colab": {
          "base_uri": "https://localhost:8080/"
        },
        "id": "phhF4PrwliiK",
        "outputId": "f5a74b38-3ec4-4ebf-816f-7962f5f91062"
      },
      "outputs": [],
      "source": [
        "try:\n",
        "  if DATA_IS_LOADED:\n",
        "    pass\n",
        "except:\n",
        "    !pip install mediapipe\n",
        "    !wget -O face_landmarker_v2_with_blendshapes.task -q https://storage.googleapis.com/mediapipe-models/face_landmarker/face_landmarker/float16/1/face_landmarker.task\n",
        "DATA_IS_LOADED = True\n",
        "from google.colab.patches import cv2_imshow\n",
        "import cv2\n",
        "import mediapipe as mp\n",
        "from mediapipe.framework.formats import landmark_pb2\n",
        "from mediapipe import solutions\n",
        "from mediapipe.tasks import python\n",
        "from mediapipe.tasks.python import vision\n",
        "import numpy as np\n",
        "from google.colab import drive\n",
        "import glob\n",
        "drive.mount('/content/drive/', force_remount=True)\n",
        "\n",
        "# For Confusion Matrix\n",
        "from sklearn.metrics import confusion_matrix\n",
        "import seaborn as sn\n",
        "import matplotlib.pyplot as plt\n",
        "from sklearn.metrics import accuracy_score, precision_score, recall_score, f1_score\n",
        "import pandas as pd"
      ]
    },
    {
      "cell_type": "markdown",
      "metadata": {
        "id": "Z1j0e8x2kdOW"
      },
      "source": [
        "## **Feature Extraction**"
      ]
    },
    {
      "cell_type": "code",
      "execution_count": 3,
      "metadata": {
        "id": "-0HQFh4PTeEJ"
      },
      "outputs": [],
      "source": [
        "def get_face_points(detection_result):\n",
        "  # Save the landmark coordinates for  the eyes\n",
        "  right_landmarks = [33, 160, 157, 133, 153, 144]\n",
        "  right_eye_points = []\n",
        "  for landmark in right_landmarks:\n",
        "    right_eye_points.append([detection_result.face_landmarks[0][landmark].x,\n",
        "                            detection_result.face_landmarks[0][landmark].y,\n",
        "                            detection_result.face_landmarks[0][landmark].z])\n",
        "\n",
        "  left_landmarks = [362, 385, 388, 263, 373, 380]\n",
        "  left_eye_points = []\n",
        "  for landmark in left_landmarks:\n",
        "    left_eye_points.append([detection_result.face_landmarks[0][landmark].x,\n",
        "                            detection_result.face_landmarks[0][landmark].y,\n",
        "                            detection_result.face_landmarks[0][landmark].z])\n",
        "\n",
        "  # Save the landmark coordinates for  the mouth\n",
        "  mouth_landmarks = [78, 81, 13, 311, 308, 402, 14, 178]\n",
        "  mouth_points = []\n",
        "  for landmark in mouth_landmarks:\n",
        "    mouth_points.append([detection_result.face_landmarks[0][landmark].x,\n",
        "                            detection_result.face_landmarks[0][landmark].y,\n",
        "                            detection_result.face_landmarks[0][landmark].z])\n",
        "  return right_eye_points, left_eye_points, mouth_points"
      ]
    },
    {
      "cell_type": "code",
      "execution_count": 4,
      "metadata": {
        "id": "bTLp9M-H-TTx"
      },
      "outputs": [],
      "source": [
        "def get_EARs(l_p, r_p):\n",
        "\n",
        "  p2_p6 = np.linalg.norm(l_p[1]-l_p[5])\n",
        "  p3_p5 = np.linalg.norm(l_p[2]-l_p[4])\n",
        "  p1_p4 = np.linalg.norm(l_p[0]-l_p[3])\n",
        "  left_EAR = (p2_p6 + p3_p5)/(2*p1_p4)\n",
        "\n",
        "  p2_p6 = np.linalg.norm(r_p[1]-r_p[5])\n",
        "  p3_p5 = np.linalg.norm(r_p[2]-r_p[4])\n",
        "  p1_p4 = np.linalg.norm(r_p[0]-r_p[3])\n",
        "  right_EAR = (p2_p6 + p3_p5)/(2*p1_p4)\n",
        "\n",
        "  return left_EAR, right_EAR"
      ]
    },
    {
      "cell_type": "code",
      "execution_count": 5,
      "metadata": {
        "id": "ZmCcHYf83-Gm"
      },
      "outputs": [],
      "source": [
        "def get_MAR(m_p):\n",
        "\n",
        "  p2_p8 = np.linalg.norm(m_p[1]-m_p[7])\n",
        "  p3_p7= np.linalg.norm(m_p[2]-m_p[6])\n",
        "  p4_p6 = np.linalg.norm(m_p[3]-m_p[5])\n",
        "  p1_p5 = np.linalg.norm(m_p[0]-m_p[4])\n",
        "  MAR = (p2_p8 + p3_p7 + p4_p6)/(2*p1_p5)\n",
        "\n",
        "  return MAR"
      ]
    },
    {
      "cell_type": "code",
      "execution_count": 6,
      "metadata": {
        "id": "PrmQZ1KiI_B0"
      },
      "outputs": [],
      "source": [
        "def face_mesh(image_path):\n",
        "    base_options = python.BaseOptions(model_asset_path='face_landmarker_v2_with_blendshapes.task')\n",
        "    options = vision.FaceLandmarkerOptions(base_options=base_options,\n",
        "                                       output_face_blendshapes=True,\n",
        "                                       output_facial_transformation_matrixes=True,\n",
        "                                       num_faces=1)\n",
        "    detector = vision.FaceLandmarker.create_from_options(options)\n",
        "\n",
        "    # Load the input image.\n",
        "    my_image = cv2.imread(image_path)\n",
        "    image = mp.Image(image_format=mp.ImageFormat.SRGB, data=my_image)\n",
        "\n",
        "    # Detect face landmarks from the input image.\n",
        "\n",
        "    detection_result = detector.detect(image)\n",
        "\n",
        "    right_eye_points, left_eye_points, mouth_points = get_face_points(detection_result)\n",
        "    left_EAR, right_EAR = get_EARs(np.array(left_eye_points), np.array(right_eye_points))\n",
        "    MAR = get_MAR(np.array(mouth_points))\n",
        "\n",
        "    return left_EAR, right_EAR, MAR"
      ]
    },
    {
      "cell_type": "code",
      "execution_count": 7,
      "metadata": {
        "id": "cB9tFNVcjNob"
      },
      "outputs": [],
      "source": [
        "def from_data_to_number(l_EAR, r_EAR, MAR):\n",
        "  if (l_EAR < 0.15):\n",
        "    first = \"1\"\n",
        "  else:\n",
        "    first = \"0\"\n",
        "\n",
        "  if (r_EAR < 0.15):\n",
        "    second = \"1\"\n",
        "  else:\n",
        "    second = \"0\"\n",
        "\n",
        "  if (MAR < 0.17):\n",
        "    third = \"1\"\n",
        "  else:\n",
        "    third = \"0\"\n",
        "\n",
        "  return first + second + third"
      ]
    },
    {
      "cell_type": "code",
      "execution_count": 9,
      "metadata": {
        "colab": {
          "base_uri": "https://localhost:8080/"
        },
        "id": "DamDWkpj7FOc",
        "outputId": "0470c3ca-3bc4-44e3-a96a-50a01a8c1336"
      },
      "outputs": [
        {
          "name": "stdout",
          "output_type": "stream",
          "text": [
            "no output for file: /content/drive/MyDrive/MUAR/Vision_por_Computador/Pruebas_y_validacion/Fotos_Chema/Frente_Lejos/110.jpg\n",
            "no output for file: /content/drive/MyDrive/MUAR/Vision_por_Computador/Pruebas_y_validacion/Fotos_Micaela/Lejos_Lado/110.JPEG\n",
            "no output for file: /content/drive/MyDrive/MUAR/Vision_por_Computador/Pruebas_y_validacion/Fotos_Micaela/Lejos_Lado/111.JPEG\n",
            "no output for file: /content/drive/MyDrive/MUAR/Vision_por_Computador/Pruebas_y_validacion/Fotos_Micaela/Lejos_Lado/000.JPEG\n",
            "no output for file: /content/drive/MyDrive/MUAR/Vision_por_Computador/Pruebas_y_validacion/Fotos_Micaela/Lejos_Frente/110.JPEG\n",
            "no output for file: /content/drive/MyDrive/MUAR/Vision_por_Computador/Pruebas_y_validacion/Fotos_Micaela/Lejos_Frente/111.JPEG\n",
            "no output for file: /content/drive/MyDrive/MUAR/Vision_por_Computador/Pruebas_y_validacion/Fotos_Micaela/Lejos_Frente/001.JPEG\n",
            "no output for file: /content/drive/MyDrive/MUAR/Vision_por_Computador/Pruebas_y_validacion/Fotos_Micaela/Cerca_Lado/100.JPEG\n",
            "no output for file: /content/drive/MyDrive/MUAR/Vision_por_Computador/Pruebas_y_validacion/Fotos_Micaela/Cerca_Lado/001.JPEG\n",
            "no output for file: /content/drive/MyDrive/MUAR/Vision_por_Computador/Pruebas_y_validacion/Fotos_Micaela/Cerca_Frente/110.JPEG\n",
            "no output for file: /content/drive/MyDrive/MUAR/Vision_por_Computador/Pruebas_y_validacion/Fotos_Ivonne/Cerca_Lado/010.jpg\n",
            "no output for file: /content/drive/MyDrive/MUAR/Vision_por_Computador/Pruebas_y_validacion/Fotos_Ivonne/Cerca_Lado/000.jpg\n",
            "no output for file: /content/drive/MyDrive/MUAR/Vision_por_Computador/Pruebas_y_validacion/Fotos_Ivonne/Lejos_Lado/111.jpg\n",
            "no output for file: /content/drive/MyDrive/MUAR/Vision_por_Computador/Pruebas_y_validacion/Fotos_Ivonne/Lejos_Lado/110.jpg\n",
            "no output for file: /content/drive/MyDrive/MUAR/Vision_por_Computador/Pruebas_y_validacion/Fotos_Ivonne/Lejos_Lado/001.jpg\n",
            "no output for file: /content/drive/MyDrive/MUAR/Vision_por_Computador/Pruebas_y_validacion/Fotos_Jorge/Lejos Frente/100.jpeg\n",
            "no output for file: /content/drive/MyDrive/MUAR/Vision_por_Computador/Pruebas_y_validacion/Fotos_Jorge/Lejos Lado/110.jpeg\n",
            "no output for file: /content/drive/MyDrive/MUAR/Vision_por_Computador/Pruebas_y_validacion/Fotos_Jorge/Lejos Lado/010.jpeg\n",
            "no output for file: /content/drive/MyDrive/MUAR/Vision_por_Computador/Pruebas_y_validacion/Fotos_Jorge/Lejos Lado/100.jpeg\n",
            "no output for file: /content/drive/MyDrive/MUAR/Vision_por_Computador/Pruebas_y_validacion/Fotos_Jorge/Lejos Lado/000.jpeg\n"
          ]
        }
      ],
      "source": [
        "path = r\"/content/drive/MyDrive/MUAR/Vision_por_Computador/Pruebas_y_validacion/Fotos*\"\n",
        "folders = glob.glob(path)\n",
        "# print(folders)\n",
        "y_pred = []\n",
        "y_true = []\n",
        "\n",
        "for folder in folders:\n",
        "  # print(f\"opening folder {folder}\")\n",
        "  sub_folders = glob.glob(folder + \"/*\")\n",
        "  for sub_folder in sub_folders:\n",
        "    # print(f\"opening subfolder {sub_folder}\")\n",
        "    files = glob.glob(sub_folder + \"/*.jpg\")\n",
        "    i = 4\n",
        "    j = 7\n",
        "    if (files == []):\n",
        "      files = glob.glob(sub_folder + \"/*.jpeg\")\n",
        "      i = 5\n",
        "      j = 8\n",
        "      if (files == []):\n",
        "        files = glob.glob(sub_folder + \"/*.JPEG\")\n",
        "        i = 5\n",
        "        j = 8\n",
        "        if (files == []):\n",
        "          print(\"there are not photos in this folder...\")\n",
        "    for myfile in files:\n",
        "      try:\n",
        "        l_EAR, r_EAR, MAR = face_mesh(myfile)\n",
        "        prediction = from_data_to_number(l_EAR, r_EAR, MAR)\n",
        "        y_pred.append(prediction)\n",
        "        actual = myfile[-j:-i]\n",
        "        y_true.append(actual)\n",
        "      except:\n",
        "        print(f\"no output for file: {myfile}\")"
      ]
    },
    {
      "cell_type": "code",
      "execution_count": 10,
      "metadata": {
        "colab": {
          "base_uri": "https://localhost:8080/",
          "height": 662
        },
        "id": "fz5da8FS7FIT",
        "outputId": "0e552440-63af-4ae2-d263-7b5c2949cbff"
      },
      "outputs": [
        {
          "name": "stdout",
          "output_type": "stream",
          "text": [
            "109\n"
          ]
        },
        {
          "data": {
            "image/png": "[encoded data removed]",
            "text/plain": [
              "<Figure size 1000x700 with 2 Axes>"
            ]
          },
          "metadata": {},
          "output_type": "display_data"
        }
      ],
      "source": [
        "print(len(y_true))\n",
        "data = confusion_matrix(y_true, y_pred)\n",
        "df_cm = pd.DataFrame(data, columns=np.unique(y_true), index = np.unique(y_true))\n",
        "df_cm.index.name = 'Actual'\n",
        "df_cm.columns.name = 'Predicted'\n",
        "plt.figure(figsize = (10,7))\n",
        "sn.set(font_scale=1.4)#for label size\n",
        "sn.heatmap(df_cm, cmap=\"Blues\", annot=True,annot_kws={\"size\": 16})# font size\n",
        "plt.savefig('confusion_matrix.png', dpi=300, bbox_inches='tight')\n"
      ]
    },
    {
      "cell_type": "code",
      "execution_count": 11,
      "metadata": {
        "colab": {
          "base_uri": "https://localhost:8080/"
        },
        "id": "aWK-vKLo7FFx",
        "outputId": "796828a4-6a44-4ed0-aa2d-ab5123ea283c"
      },
      "outputs": [
        {
          "name": "stdout",
          "output_type": "stream",
          "text": [
            "Succes rate = 40.4%\n"
          ]
        }
      ],
      "source": [
        "# success rate\n",
        "b = df_cm.values\n",
        "\n",
        "print(f\"Succes rate = {np.trace(b)/len(y_true)*100:.3}%\")\n"
      ]
    }
  ],
  "metadata": {
    "colab": {
      "provenance": []
    },
    "kernelspec": {
      "display_name": "Python 3",
      "name": "python3"
    },
    "language_info": {
      "name": "python"
    }
  },
  "nbformat": 4,
  "nbformat_minor": 0
}
